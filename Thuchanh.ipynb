{
  "nbformat": 4,
  "nbformat_minor": 0,
  "metadata": {
    "colab": {
      "name": "Thuchanh.ipynb",
      "provenance": [],
      "authorship_tag": "ABX9TyOZQ4HAx5uxdCY8Swy/xyyG",
      "include_colab_link": true
    },
    "kernelspec": {
      "name": "python3",
      "display_name": "Python 3"
    }
  },
  "cells": [
    {
      "cell_type": "markdown",
      "metadata": {
        "id": "view-in-github",
        "colab_type": "text"
      },
      "source": [
        "<a href=\"https://colab.research.google.com/github/anvq38/CS114.K21.KHTN/blob/master/Thuchanh.ipynb\" target=\"_parent\"><img src=\"https://colab.research.google.com/assets/colab-badge.svg\" alt=\"Open In Colab\"/></a>"
      ]
    },
    {
      "cell_type": "code",
      "metadata": {
        "id": "1hhQMkv8QrQt",
        "colab_type": "code",
        "colab": {
          "base_uri": "https://localhost:8080/",
          "height": 202
        },
        "outputId": "096a871f-7634-4a9f-fee3-9cf19aca60e4"
      },
      "source": [
        "!wget http://cs.uit.edu.vn/data.txt"
      ],
      "execution_count": 54,
      "outputs": [
        {
          "output_type": "stream",
          "text": [
            "--2020-06-09 13:51:50--  http://cs.uit.edu.vn/data.txt\n",
            "Resolving cs.uit.edu.vn (cs.uit.edu.vn)... 118.69.123.142\n",
            "Connecting to cs.uit.edu.vn (cs.uit.edu.vn)|118.69.123.142|:80... connected.\n",
            "HTTP request sent, awaiting response... 200 OK\n",
            "Length: 84410 (82K) [text/plain]\n",
            "Saving to: ‘data.txt.4’\n",
            "\n",
            "data.txt.4          100%[===================>]  82.43K   141KB/s    in 0.6s    \n",
            "\n",
            "2020-06-09 13:51:52 (141 KB/s) - ‘data.txt.4’ saved [84410/84410]\n",
            "\n"
          ],
          "name": "stdout"
        }
      ]
    },
    {
      "cell_type": "code",
      "metadata": {
        "id": "UqUjxeotQ2Df",
        "colab_type": "code",
        "colab": {
          "base_uri": "https://localhost:8080/",
          "height": 195
        },
        "outputId": "61a1c769-75b2-4b0c-a0fc-bab55a025a98"
      },
      "source": [
        "import pandas as pd\n",
        "\n",
        "import io\n",
        "import matplotlib.pyplot as plt\n",
        "\n",
        "datasets = pd.read_csv('data.txt', header = None)\n",
        "datasets.columns = [\"x\", \"y\"]\n",
        "datasets.head()"
      ],
      "execution_count": 55,
      "outputs": [
        {
          "output_type": "execute_result",
          "data": {
            "text/html": [
              "<div>\n",
              "<style scoped>\n",
              "    .dataframe tbody tr th:only-of-type {\n",
              "        vertical-align: middle;\n",
              "    }\n",
              "\n",
              "    .dataframe tbody tr th {\n",
              "        vertical-align: top;\n",
              "    }\n",
              "\n",
              "    .dataframe thead th {\n",
              "        text-align: right;\n",
              "    }\n",
              "</style>\n",
              "<table border=\"1\" class=\"dataframe\">\n",
              "  <thead>\n",
              "    <tr style=\"text-align: right;\">\n",
              "      <th></th>\n",
              "      <th>x</th>\n",
              "      <th>y</th>\n",
              "    </tr>\n",
              "  </thead>\n",
              "  <tbody>\n",
              "    <tr>\n",
              "      <th>0</th>\n",
              "      <td>4032139</td>\n",
              "      <td>1.200580</td>\n",
              "    </tr>\n",
              "    <tr>\n",
              "      <th>1</th>\n",
              "      <td>2055486</td>\n",
              "      <td>0.509774</td>\n",
              "    </tr>\n",
              "    <tr>\n",
              "      <th>2</th>\n",
              "      <td>5626651</td>\n",
              "      <td>1.476080</td>\n",
              "    </tr>\n",
              "    <tr>\n",
              "      <th>3</th>\n",
              "      <td>42065</td>\n",
              "      <td>0.007651</td>\n",
              "    </tr>\n",
              "    <tr>\n",
              "      <th>4</th>\n",
              "      <td>6297788</td>\n",
              "      <td>1.661560</td>\n",
              "    </tr>\n",
              "  </tbody>\n",
              "</table>\n",
              "</div>"
            ],
            "text/plain": [
              "         x         y\n",
              "0  4032139  1.200580\n",
              "1  2055486  0.509774\n",
              "2  5626651  1.476080\n",
              "3    42065  0.007651\n",
              "4  6297788  1.661560"
            ]
          },
          "metadata": {
            "tags": []
          },
          "execution_count": 55
        }
      ]
    },
    {
      "cell_type": "code",
      "metadata": {
        "id": "EUn2vuO0Q5xC",
        "colab_type": "code",
        "colab": {}
      },
      "source": [
        "from sklearn.model_selection import train_test_split\n",
        "import numpy as np\n"
      ],
      "execution_count": 0,
      "outputs": []
    },
    {
      "cell_type": "code",
      "metadata": {
        "id": "l8fGdFRLRUHs",
        "colab_type": "code",
        "colab": {}
      },
      "source": [
        "X = datasets['x']\n",
        "y = datasets['y']\n",
        "X = np.array(X)\n",
        "y = np.array(X)\n",
        "X = X.reshape(-1,1)\n",
        "y = y.reshape(-1,1)"
      ],
      "execution_count": 0,
      "outputs": []
    },
    {
      "cell_type": "code",
      "metadata": {
        "id": "mNDIZFRGRu-V",
        "colab_type": "code",
        "colab": {}
      },
      "source": [
        "X_train, X_test, y_train, y_test = train_test_split(X, y, test_size=0.3)\n"
      ],
      "execution_count": 0,
      "outputs": []
    },
    {
      "cell_type": "code",
      "metadata": {
        "id": "nhP2VC39R7ff",
        "colab_type": "code",
        "colab": {
          "base_uri": "https://localhost:8080/",
          "height": 34
        },
        "outputId": "567e2dca-de63-4c3c-9e7a-dd6dc45b5d6f"
      },
      "source": [
        "from sklearn.linear_model import LinearRegression\n",
        "LR = LinearRegression() #khoi tao model\n",
        "LR.fit(X_train, y_train) #train"
      ],
      "execution_count": 59,
      "outputs": [
        {
          "output_type": "execute_result",
          "data": {
            "text/plain": [
              "LinearRegression(copy_X=True, fit_intercept=True, n_jobs=None, normalize=False)"
            ]
          },
          "metadata": {
            "tags": []
          },
          "execution_count": 59
        }
      ]
    },
    {
      "cell_type": "code",
      "metadata": {
        "id": "wQFRVw5qR-Yt",
        "colab_type": "code",
        "colab": {
          "base_uri": "https://localhost:8080/",
          "height": 34
        },
        "outputId": "32510a63-9c69-4d85-ad68-286d9c5f249c"
      },
      "source": [
        "LR.score(X_test, y_test)"
      ],
      "execution_count": 60,
      "outputs": [
        {
          "output_type": "execute_result",
          "data": {
            "text/plain": [
              "1.0"
            ]
          },
          "metadata": {
            "tags": []
          },
          "execution_count": 60
        }
      ]
    },
    {
      "cell_type": "code",
      "metadata": {
        "id": "eouBZKPUUmxA",
        "colab_type": "code",
        "colab": {
          "base_uri": "https://localhost:8080/",
          "height": 34
        },
        "outputId": "e38e525b-460a-41ba-f50a-9af3fe789bec"
      },
      "source": [
        "LR.score(X_train,y_train)"
      ],
      "execution_count": 61,
      "outputs": [
        {
          "output_type": "execute_result",
          "data": {
            "text/plain": [
              "1.0"
            ]
          },
          "metadata": {
            "tags": []
          },
          "execution_count": 61
        }
      ]
    },
    {
      "cell_type": "code",
      "metadata": {
        "id": "HbyEV9ilUsW5",
        "colab_type": "code",
        "colab": {}
      },
      "source": [
        "testsets = pd.read_csv('http://cs.uit.edu.vn/data_test.txt')"
      ],
      "execution_count": 0,
      "outputs": []
    },
    {
      "cell_type": "code",
      "metadata": {
        "id": "e9amCL1qU3qO",
        "colab_type": "code",
        "colab": {}
      },
      "source": [
        "testsets.columns = [\"x\", \"y\"]"
      ],
      "execution_count": 0,
      "outputs": []
    },
    {
      "cell_type": "code",
      "metadata": {
        "id": "2EsrVoeoU9fV",
        "colab_type": "code",
        "colab": {}
      },
      "source": [
        "X_test = testsets['x']\n",
        "y_test = testsets['y']\n",
        "X_test = np.array(X)\n",
        "y_test = np.array(X)\n",
        "X_test = X.reshape(-1,1)\n",
        "y_test = y.reshape(-1,1)"
      ],
      "execution_count": 0,
      "outputs": []
    },
    {
      "cell_type": "code",
      "metadata": {
        "id": "pot7ySEcU_Kn",
        "colab_type": "code",
        "colab": {
          "base_uri": "https://localhost:8080/",
          "height": 34
        },
        "outputId": "dd5623fc-158e-4499-c5bc-5ff642c2a550"
      },
      "source": [
        "LR.score(X_test, y_test)"
      ],
      "execution_count": 65,
      "outputs": [
        {
          "output_type": "execute_result",
          "data": {
            "text/plain": [
              "1.0"
            ]
          },
          "metadata": {
            "tags": []
          },
          "execution_count": 65
        }
      ]
    },
    {
      "cell_type": "code",
      "metadata": {
        "id": "91CPwYuoVXW1",
        "colab_type": "code",
        "colab": {}
      },
      "source": [
        ""
      ],
      "execution_count": 0,
      "outputs": []
    }
  ]
}