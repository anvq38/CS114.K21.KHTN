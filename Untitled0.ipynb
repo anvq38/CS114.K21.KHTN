{
  "nbformat": 4,
  "nbformat_minor": 0,
  "metadata": {
    "colab": {
      "name": "Untitled0.ipynb",
      "provenance": [],
      "authorship_tag": "ABX9TyNtUuVSpCRQPzroM7UV8LtX",
      "include_colab_link": true
    },
    "kernelspec": {
      "name": "python3",
      "display_name": "Python 3"
    }
  },
  "cells": [
    {
      "cell_type": "markdown",
      "metadata": {
        "id": "view-in-github",
        "colab_type": "text"
      },
      "source": [
        "<a href=\"https://colab.research.google.com/github/anvq38/CS114.K21.KHTN/blob/master/Untitled0.ipynb\" target=\"_parent\"><img src=\"https://colab.research.google.com/assets/colab-badge.svg\" alt=\"Open In Colab\"/></a>"
      ]
    },
    {
      "cell_type": "markdown",
      "metadata": {
        "id": "VK-ii-Ao0f0t",
        "colab_type": "text"
      },
      "source": [
        "Đồ án cuối kỳ\n",
        "1.\tMô tả đồ án.\n",
        "-\tTên đồ án: Nhận diện biển báo giao thông.\n",
        "-\tInput: Ảnh đầu vào có chứa một loại biển báo giao thông.\n",
        "-\tOutput: Thông tin biển báo.\n",
        "2.\tCác bộ dữ liệu.\n",
        "-\tCách thức xây dựng bộ dữ liệu: Chụp ảnh, lấy dữ liệu trân Kaggle xây dựng dữ liệu dùng chung với các nhóm có chung đề tài.\n",
        "-\tSố lượng: 2000 tấm ảnh, 43 loại biển báo giao thông, mỗi loại biển báo chụp 50 tấm ảnh.\n",
        "-\tCác thao tác tiền xử lí trên dữ liệu:\n",
        "-\tPhân chia(split): train/dev/test: train/test = 0.7/0.3\n",
        "3.\tĐặc trưng.\n",
        "-\tShape feature, Color histogram\n",
        "4.\tCác thuật toán máy học.\n",
        "- Sử dụng thuật toán KNN\n",
        "5.\tCài đặt tinh chỉnh tham số.\n",
        "-\tXây dựng chương trình trên Google Colab\n"
      ]
    }
  ]
}