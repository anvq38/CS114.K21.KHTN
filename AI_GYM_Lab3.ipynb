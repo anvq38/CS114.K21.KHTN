{
  "nbformat": 4,
  "nbformat_minor": 0,
  "metadata": {
    "colab": {
      "name": "AI_GYM_Lab3.ipynb",
      "provenance": [],
      "authorship_tag": "ABX9TyOTwPjxnzPwwHNsP2+NjE6i",
      "include_colab_link": true
    },
    "kernelspec": {
      "name": "python3",
      "display_name": "Python 3"
    }
  },
  "cells": [
    {
      "cell_type": "markdown",
      "metadata": {
        "id": "view-in-github",
        "colab_type": "text"
      },
      "source": [
        "<a href=\"https://colab.research.google.com/github/anvq38/CS114.K21.KHTN/blob/master/AI_GYM_Lab3.ipynb\" target=\"_parent\"><img src=\"https://colab.research.google.com/assets/colab-badge.svg\" alt=\"Open In Colab\"/></a>"
      ]
    },
    {
      "cell_type": "code",
      "metadata": {
        "id": "6l5pExUIyLyO",
        "colab_type": "code",
        "colab": {}
      },
      "source": [
        "import numpy as np\n",
        "import gym\n",
        "env = gym.make('FrozenLake-v0')"
      ],
      "execution_count": 0,
      "outputs": []
    },
    {
      "cell_type": "code",
      "metadata": {
        "id": "EVrnoKqR0gmN",
        "colab_type": "code",
        "outputId": "96ad4c1d-b160-4e69-a7da-fe7d7520e3f6",
        "colab": {
          "base_uri": "https://localhost:8080/",
          "height": 101
        }
      },
      "source": [
        "env.reset()\n",
        "env.render()"
      ],
      "execution_count": 0,
      "outputs": [
        {
          "output_type": "stream",
          "text": [
            "\n",
            "\u001b[41mS\u001b[0mFFF\n",
            "FHFH\n",
            "FFFH\n",
            "HFFG\n"
          ],
          "name": "stdout"
        }
      ]
    },
    {
      "cell_type": "code",
      "metadata": {
        "id": "sst0ac3M05hA",
        "colab_type": "code",
        "outputId": "434f4094-3531-44c1-8f77-b0d1c42a8184",
        "colab": {
          "base_uri": "https://localhost:8080/",
          "height": 67
        }
      },
      "source": [
        "env.P[0][2]"
      ],
      "execution_count": 0,
      "outputs": [
        {
          "output_type": "execute_result",
          "data": {
            "text/plain": [
              "[(0.3333333333333333, 4, 0.0, False),\n",
              " (0.3333333333333333, 1, 0.0, False),\n",
              " (0.3333333333333333, 0, 0.0, False)]"
            ]
          },
          "metadata": {
            "tags": []
          },
          "execution_count": 4
        }
      ]
    },
    {
      "cell_type": "code",
      "metadata": {
        "id": "9UvFgMyx09cL",
        "colab_type": "code",
        "outputId": "567ae1cd-e125-4b63-eb00-2364469a927d",
        "colab": {
          "base_uri": "https://localhost:8080/",
          "height": 34
        }
      },
      "source": [
        "env.action_space.n"
      ],
      "execution_count": 0,
      "outputs": [
        {
          "output_type": "execute_result",
          "data": {
            "text/plain": [
              "4"
            ]
          },
          "metadata": {
            "tags": []
          },
          "execution_count": 5
        }
      ]
    },
    {
      "cell_type": "code",
      "metadata": {
        "id": "46qKNlMD1Jhd",
        "colab_type": "code",
        "outputId": "21a173f6-7dc6-4581-cc52-3ade6d329750",
        "colab": {
          "base_uri": "https://localhost:8080/",
          "height": 34
        }
      },
      "source": [
        "env.observation_space.n"
      ],
      "execution_count": 0,
      "outputs": [
        {
          "output_type": "execute_result",
          "data": {
            "text/plain": [
              "16"
            ]
          },
          "metadata": {
            "tags": []
          },
          "execution_count": 6
        }
      ]
    },
    {
      "cell_type": "code",
      "metadata": {
        "id": "kZ3b_0GE1u19",
        "colab_type": "code",
        "colab": {}
      },
      "source": [
        "import numpy as np\n",
        "import gym\n",
        "env = gym.make('FrozenLake-v0')"
      ],
      "execution_count": 0,
      "outputs": []
    },
    {
      "cell_type": "code",
      "metadata": {
        "id": "DHEeNmpz6s5I",
        "colab_type": "code",
        "outputId": "c31caadd-9354-4178-9b55-0e95be797308",
        "colab": {
          "base_uri": "https://localhost:8080/",
          "height": 34
        }
      },
      "source": [
        "env.reset()"
      ],
      "execution_count": 0,
      "outputs": [
        {
          "output_type": "execute_result",
          "data": {
            "text/plain": [
              "0"
            ]
          },
          "metadata": {
            "tags": []
          },
          "execution_count": 5
        }
      ]
    },
    {
      "cell_type": "code",
      "metadata": {
        "id": "CORuLO2N60Qs",
        "colab_type": "code",
        "colab": {}
      },
      "source": [
        "def value_iteration(env, max_iters, gamma=0.9):\n",
        "    v_values = np.zeros(env.observation_space.n)\n",
        "    for i in range(max_iters):\n",
        "        prev_v_values = np.copy(v_values)\n",
        "\n",
        "        # Compute value for each state\n",
        "        for state in range(env.observation_space.n):\n",
        "            q_values = []\n",
        "\n",
        "            # Compute q-value for each action\n",
        "            for action in range(env.action_space.n):                \n",
        "                q_value = 0\n",
        "                for prob, next_state, reward, done in env.P[state][action]:\n",
        "                    q_value += prob * (reward + gamma * prev_v_values[next_state])\n",
        "                q_values.append(q_value)\n",
        "            \n",
        "            # Select the best action\n",
        "            best_action = np.argmax(np.asarray(q_values))\n",
        "            v_values[state] = q_values[best_action]\n",
        "        \n",
        "        # Check convergence\n",
        "        if np.all(np.isclose(v_values, prev_v_values)):\n",
        "            print('Converged at {}-th iteration.'.format(i))\n",
        "            break\n",
        "    \n",
        "    return v_values"
      ],
      "execution_count": 0,
      "outputs": []
    },
    {
      "cell_type": "code",
      "metadata": {
        "id": "wJVJ4DFFC8i2",
        "colab_type": "code",
        "colab": {}
      },
      "source": [
        "def policy_extraction(env, v_values, gamma=0.9):\n",
        "    policy = np.zeros(env.observation_space.n, dtype=np.int)\n",
        "    \n",
        "    # Compute the best action for each state in the game\n",
        "    # Compute q-values for each (state-action) pair in the game\n",
        "    for state in range(env.observation_space.n):\n",
        "        q_values = []\n",
        "\n",
        "        # Compute q-values for each action\n",
        "        for action in range(env.action_space.n):\n",
        "            q_value = 0\n",
        "            for prob, next_state, reward, done in env.P[state][action]:\n",
        "                q_value += prob * (reward + gamma * v_values[next_state])\n",
        "            q_values.append(q_value)\n",
        "\n",
        "        # Select the best action\n",
        "        best_action = np.argmax(np.asarray(q_values))\n",
        "        policy[state] = best_action\n",
        "    \n",
        "    return policy"
      ],
      "execution_count": 0,
      "outputs": []
    },
    {
      "cell_type": "code",
      "metadata": {
        "id": "iZEGcrnEDAAh",
        "colab_type": "code",
        "outputId": "8fe7e8e9-f67c-4c45-bb8a-ec13a00d2c86",
        "colab": {
          "base_uri": "https://localhost:8080/",
          "height": 34
        }
      },
      "source": [
        "v_values = value_iteration(env, max_iters=1000, gamma=0.9)"
      ],
      "execution_count": 0,
      "outputs": [
        {
          "output_type": "stream",
          "text": [
            "Converged at 117-th iteration.\n"
          ],
          "name": "stdout"
        }
      ]
    },
    {
      "cell_type": "code",
      "metadata": {
        "id": "EutnT66xDrZw",
        "colab_type": "code",
        "colab": {}
      },
      "source": [
        "policy = policy_extraction(env, v_values, gamma=0.9)"
      ],
      "execution_count": 0,
      "outputs": []
    },
    {
      "cell_type": "code",
      "metadata": {
        "id": "rjeJrKWSDzZs",
        "colab_type": "code",
        "outputId": "dabe29cf-5413-4774-9890-e5c0f91d1d06",
        "colab": {
          "base_uri": "https://localhost:8080/",
          "height": 50
        }
      },
      "source": [
        "print(policy)"
      ],
      "execution_count": 0,
      "outputs": [
        {
          "output_type": "stream",
          "text": [
            "[3 2 2 2 2 2 2 2 3 3 3 3 2 2 2 1 3 3 0 0 2 3 2 1 3 3 3 1 0 0 2 1 3 3 0 0 2\n",
            " 1 3 2 0 0 0 1 3 0 0 2 0 0 1 0 0 0 0 2 0 1 0 0 1 1 1 0]\n"
          ],
          "name": "stdout"
        }
      ]
    },
    {
      "cell_type": "code",
      "metadata": {
        "id": "B0anVqBMD3JF",
        "colab_type": "code",
        "outputId": "a60c284b-4d8d-4571-f9f2-721f7acb2125",
        "colab": {
          "base_uri": "https://localhost:8080/",
          "height": 168
        }
      },
      "source": [
        "env.render()"
      ],
      "execution_count": 0,
      "outputs": [
        {
          "output_type": "stream",
          "text": [
            "  (Down)\n",
            "SFFFFFFF\n",
            "FFFFFFFF\n",
            "F\u001b[41mF\u001b[0mFHFFFF\n",
            "FFFFFHFF\n",
            "FFFHFFFF\n",
            "FHHFFFHF\n",
            "FHFFHFHF\n",
            "FFFHFFFG\n"
          ],
          "name": "stdout"
        }
      ]
    },
    {
      "cell_type": "code",
      "metadata": {
        "id": "POh1gAbtD6NZ",
        "colab_type": "code",
        "colab": {}
      },
      "source": [
        "def play(env, policy):\n",
        "    state = env.reset()\n",
        "    steps = 0\n",
        "    done = False\n",
        "    while not done:\n",
        "        action = policy[state]\n",
        "        next_state, reward, done, info = env.step(action)\n",
        "        steps += 1\n",
        "        #env.render()\n",
        "        state = next_state\n",
        "    \n",
        "    #print('# steps: {}'.format(steps))\n",
        "    return (reward, steps)"
      ],
      "execution_count": 0,
      "outputs": []
    },
    {
      "cell_type": "code",
      "metadata": {
        "id": "LQfFyenKEBKm",
        "colab_type": "code",
        "colab": {}
      },
      "source": [
        "def play_multiple_times(env, policy):\n",
        "    num_episodes = 1000\n",
        "    list_of_steps = []\n",
        "    num_failures = 0\n",
        "    \n",
        "    for i in range(num_episodes):\n",
        "        reward, steps = play(env, policy)\n",
        "        if reward == 1:\n",
        "            list_of_steps.append(steps)\n",
        "        else:\n",
        "            num_failures += 1\n",
        "\n",
        "    print('# failures: {}/{}'.format(num_failures, num_episodes))\n",
        "    print('avg. # steps: {}'.format(np.mean(list_of_steps)))\n"
      ],
      "execution_count": 0,
      "outputs": []
    },
    {
      "cell_type": "code",
      "metadata": {
        "id": "-xNBBouGEGMY",
        "colab_type": "code",
        "outputId": "02f39ddf-6486-4853-e5b6-deea3633cdb4",
        "colab": {
          "base_uri": "https://localhost:8080/",
          "height": 50
        }
      },
      "source": [
        "play_multiple_times(env, policy)"
      ],
      "execution_count": 0,
      "outputs": [
        {
          "output_type": "stream",
          "text": [
            "# failures: 231/1000\n",
            "avg. # steps: 36.69310793237971\n"
          ],
          "name": "stdout"
        }
      ]
    },
    {
      "cell_type": "code",
      "metadata": {
        "id": "XGD1y-x2EUg9",
        "colab_type": "code",
        "outputId": "3dfc1867-035f-49e6-e10b-1e263b12ff48",
        "colab": {
          "base_uri": "https://localhost:8080/",
          "height": 34
        }
      },
      "source": [
        "play(env, policy)"
      ],
      "execution_count": 0,
      "outputs": [
        {
          "output_type": "execute_result",
          "data": {
            "text/plain": [
              "(0.0, 11)"
            ]
          },
          "metadata": {
            "tags": []
          },
          "execution_count": 34
        }
      ]
    },
    {
      "cell_type": "code",
      "metadata": {
        "id": "AITVtcnSEk7F",
        "colab_type": "code",
        "colab": {}
      },
      "source": [
        ""
      ],
      "execution_count": 0,
      "outputs": []
    },
    {
      "cell_type": "code",
      "metadata": {
        "id": "yeL7efywoYaP",
        "colab_type": "code",
        "colab": {}
      },
      "source": [
        "import numpy as np\n",
        "import gym\n",
        "env = gym.make('FrozenLake8x8-v0')"
      ],
      "execution_count": 0,
      "outputs": []
    },
    {
      "cell_type": "code",
      "metadata": {
        "id": "kmnzyOc8oqph",
        "colab_type": "code",
        "outputId": "1c5ec268-a1f9-4d7d-ccbe-89464d06c3ec",
        "colab": {
          "base_uri": "https://localhost:8080/",
          "height": 168
        }
      },
      "source": [
        "env.reset()\n",
        "env.render()"
      ],
      "execution_count": 0,
      "outputs": [
        {
          "output_type": "stream",
          "text": [
            "\n",
            "\u001b[41mS\u001b[0mFFFFFFF\n",
            "FFFFFFFF\n",
            "FFFHFFFF\n",
            "FFFFFHFF\n",
            "FFFHFFFF\n",
            "FHHFFFHF\n",
            "FHFFHFHF\n",
            "FFFHFFFG\n"
          ],
          "name": "stdout"
        }
      ]
    },
    {
      "cell_type": "code",
      "metadata": {
        "id": "LQlLdb0movWP",
        "colab_type": "code",
        "outputId": "a653a3e4-b7d4-44aa-9a4a-7379fc7fac4e",
        "colab": {
          "base_uri": "https://localhost:8080/",
          "height": 34
        }
      },
      "source": [
        "env.reset()"
      ],
      "execution_count": 0,
      "outputs": [
        {
          "output_type": "execute_result",
          "data": {
            "text/plain": [
              "0"
            ]
          },
          "metadata": {
            "tags": []
          },
          "execution_count": 50
        }
      ]
    },
    {
      "cell_type": "code",
      "metadata": {
        "id": "Sv527ZmDo0W-",
        "colab_type": "code",
        "outputId": "c495e106-64d1-4f01-865a-52732cd1860a",
        "colab": {
          "base_uri": "https://localhost:8080/",
          "height": 50
        }
      },
      "source": [
        "play_multiple_times(env, policy)"
      ],
      "execution_count": 0,
      "outputs": [
        {
          "output_type": "stream",
          "text": [
            "# failures: 261/1000\n",
            "avg. # steps: 72.1190798376184\n"
          ],
          "name": "stdout"
        }
      ]
    }
  ]
}