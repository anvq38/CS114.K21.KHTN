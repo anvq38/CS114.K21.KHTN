{
  "nbformat": 4,
  "nbformat_minor": 0,
  "metadata": {
    "colab": {
      "name": "Final_MachineLearning.ipynb",
      "provenance": [],
      "collapsed_sections": [],
      "authorship_tag": "ABX9TyNhw4ObAgWrsQMQdzugw8oA",
      "include_colab_link": true
    },
    "kernelspec": {
      "name": "python3",
      "display_name": "Python 3"
    }
  },
  "cells": [
    {
      "cell_type": "markdown",
      "metadata": {
        "id": "view-in-github",
        "colab_type": "text"
      },
      "source": [
        "<a href=\"https://colab.research.google.com/github/anvq38/CS114.K21.KHTN/blob/master/Final_MachineLearning.ipynb\" target=\"_parent\"><img src=\"https://colab.research.google.com/assets/colab-badge.svg\" alt=\"Open In Colab\"/></a>"
      ]
    },
    {
      "cell_type": "markdown",
      "metadata": {
        "id": "7hVIblgCjmL5",
        "colab_type": "text"
      },
      "source": [
        "**SINH VIÊN : VÕ QUỐC AN**\n",
        "\n",
        "**ID : 18520440**\n",
        "\n",
        "**CLASS: CS114.K21.KHTN**\n",
        "\n",
        "**UIT-VNU**"
      ]
    },
    {
      "cell_type": "markdown",
      "metadata": {
        "id": "9eBwapZjLdx5",
        "colab_type": "text"
      },
      "source": [
        "# **Mô tả đồ án**\n",
        "\n",
        "*Tên đồ án: Nhận diện tòa nhà trong UIT*\n",
        "\n",
        "Input: Hình ảnh một tòa nhà trong UIT \n",
        "\n",
        "Output: Cho biết đó là tòa nhà nào trong UIT"
      ]
    },
    {
      "cell_type": "markdown",
      "metadata": {
        "id": "jPSETMaWxkqr",
        "colab_type": "text"
      },
      "source": [
        "# **Mô tả dữ liệu**\n",
        "- Cách dây dựng bộ dữ liệu: Dataset tự chụp cùng với 3 bạn có chung đề tài Trần Đình Khang, Nguyễn Khánh Toàn và Nguyễn Trần Trung.\n",
        "\n",
        "- Dataset có 1096 bức ảnh chia thành 5 labels: A, B, C, D và CT\n"
      ]
    },
    {
      "cell_type": "markdown",
      "metadata": {
        "id": "xEpBbymLjZc7",
        "colab_type": "text"
      },
      "source": [
        "## Load dữ liệu từ drive"
      ]
    },
    {
      "cell_type": "code",
      "metadata": {
        "id": "IdtxW-E502mQ",
        "colab_type": "code",
        "colab": {
          "base_uri": "https://localhost:8080/",
          "height": 121
        },
        "outputId": "fdccc29e-29ce-40a3-a013-bb0ab9b7c99e"
      },
      "source": [
        "from google.colab import drive\n",
        "drive.mount('/content/gdrive')"
      ],
      "execution_count": 1,
      "outputs": [
        {
          "output_type": "stream",
          "text": [
            "Go to this URL in a browser: https://accounts.google.com/o/oauth2/auth?client_id=947318989803-6bn6qk8qdgf4n4g3pfee6491hc0brc4i.apps.googleusercontent.com&redirect_uri=urn%3aietf%3awg%3aoauth%3a2.0%3aoob&response_type=code&scope=email%20https%3a%2f%2fwww.googleapis.com%2fauth%2fdocs.test%20https%3a%2f%2fwww.googleapis.com%2fauth%2fdrive%20https%3a%2f%2fwww.googleapis.com%2fauth%2fdrive.photos.readonly%20https%3a%2f%2fwww.googleapis.com%2fauth%2fpeopleapi.readonly\n",
            "\n",
            "Enter your authorization code:\n",
            "··········\n",
            "Mounted at /content/gdrive\n"
          ],
          "name": "stdout"
        }
      ]
    },
    {
      "cell_type": "code",
      "metadata": {
        "id": "5m05r1TjJvB4",
        "colab_type": "code",
        "colab": {}
      },
      "source": [
        "import os\n",
        "import matplotlib.pyplot as plt\n",
        "import numpy as np\n",
        "import cv2\n",
        "import pandas as pd\n",
        "from keras import models\n",
        "from skimage.feature import hog"
      ],
      "execution_count": 2,
      "outputs": []
    },
    {
      "cell_type": "markdown",
      "metadata": {
        "id": "Stg1QzV_j10Y",
        "colab_type": "text"
      },
      "source": [
        "##Xử lí dữ liệu\n",
        "\n",
        "- Resize ảnh về kích thước 256x256\n",
        "\n",
        "- Gắn nhãn"
      ]
    },
    {
      "cell_type": "code",
      "metadata": {
        "id": "8qJCefHPpRRI",
        "colab_type": "code",
        "colab": {}
      },
      "source": [
        "def Load_images(path):\n",
        "  images = []\n",
        "  labels = []\n",
        "  for folder_images in os.listdir(path):\n",
        "    for file_image in os.listdir(path + '/' + folder_images):\n",
        "      if file_image.endswith('.jpg') or  file_image.endswith('.JPG'):\n",
        "        img = cv2.imread(path + '/' + folder_images + '/' + file_image, 1)\n",
        "        img = cv2.cvtColor(img, cv2.COLOR_BGR2RGB)\n",
        "        img = cv2.resize(img, (256, 256))\n",
        "        images.append(img)\n",
        "        labels.append(folder_images)\n",
        "  return images, labels"
      ],
      "execution_count": 3,
      "outputs": []
    },
    {
      "cell_type": "code",
      "metadata": {
        "id": "kGQPaelDfjWh",
        "colab_type": "code",
        "colab": {}
      },
      "source": [
        "images, labels = Load_images('/content/gdrive/My Drive/dataset')"
      ],
      "execution_count": 4,
      "outputs": []
    },
    {
      "cell_type": "code",
      "metadata": {
        "id": "xE7khcVD05B1",
        "colab_type": "code",
        "colab": {
          "base_uri": "https://localhost:8080/",
          "height": 34
        },
        "outputId": "de9c1608-ad11-4896-bafa-438ade7786c8"
      },
      "source": [
        "len(labels)"
      ],
      "execution_count": 5,
      "outputs": [
        {
          "output_type": "execute_result",
          "data": {
            "text/plain": [
              "1096"
            ]
          },
          "metadata": {
            "tags": []
          },
          "execution_count": 5
        }
      ]
    },
    {
      "cell_type": "markdown",
      "metadata": {
        "id": "_FesGRysx03K",
        "colab_type": "text"
      },
      "source": [
        "## Rút trích đặc trưng\n",
        "\n",
        "Rút trích đặc trưng ảnh ta sẽ thu được vector đặc trưng của ảnh.(Mã hóa hình ảnh thành một vector, và vector này mang những đặc trưng là các số thực đại diện cho ảnh đó).\n",
        "\n",
        "Sử dụng phương pháp HOG để rút trích đặc trưng."
      ]
    },
    {
      "cell_type": "code",
      "metadata": {
        "id": "XuiY16PZt4Aa",
        "colab_type": "code",
        "colab": {}
      },
      "source": [
        "from skimage.feature import hog\n",
        "def feature_extraction(image):\n",
        "    feature = hog(image, orientations=9, pixels_per_cell=(8, 8), cells_per_block=(2, 2), multichannel=True)\n",
        "    feature = feature.ravel()\n",
        "    return feature"
      ],
      "execution_count": 6,
      "outputs": []
    },
    {
      "cell_type": "code",
      "metadata": {
        "id": "B4m6AMc3z4tD",
        "colab_type": "code",
        "colab": {}
      },
      "source": [
        "def get_feature(images):\n",
        "    features = []\n",
        "    for image in images:\n",
        "        feature = feature_extraction(image)\n",
        "        features.append(feature)\n",
        "    return features"
      ],
      "execution_count": 7,
      "outputs": []
    },
    {
      "cell_type": "code",
      "metadata": {
        "id": "PxdUHYAcz6-v",
        "colab_type": "code",
        "colab": {}
      },
      "source": [
        "feature_images = get_feature(images)"
      ],
      "execution_count": 8,
      "outputs": []
    },
    {
      "cell_type": "code",
      "metadata": {
        "id": "0BSL_yyez_Z6",
        "colab_type": "code",
        "colab": {}
      },
      "source": [
        "feature_images = np.asarray(feature_images)\n",
        "labels = np.asarray(labels)"
      ],
      "execution_count": 9,
      "outputs": []
    },
    {
      "cell_type": "code",
      "metadata": {
        "id": "aUOjbR9h0_7J",
        "colab_type": "code",
        "colab": {
          "base_uri": "https://localhost:8080/",
          "height": 34
        },
        "outputId": "3393463d-e249-4be2-e1dd-dc6f00aa0500"
      },
      "source": [
        "print(feature_images.shape)"
      ],
      "execution_count": 10,
      "outputs": [
        {
          "output_type": "stream",
          "text": [
            "(1096, 34596)\n"
          ],
          "name": "stdout"
        }
      ]
    },
    {
      "cell_type": "code",
      "metadata": {
        "id": "P0ZDQUer0eSU",
        "colab_type": "code",
        "colab": {
          "base_uri": "https://localhost:8080/",
          "height": 302
        },
        "outputId": "361251a3-54ae-4698-bf30-b311ceddeb0c"
      },
      "source": [
        "print(labels[540])\n",
        "plt.imshow(images[540])"
      ],
      "execution_count": 11,
      "outputs": [
        {
          "output_type": "stream",
          "text": [
            "E\n"
          ],
          "name": "stdout"
        },
        {
          "output_type": "execute_result",
          "data": {
            "text/plain": [
              "<matplotlib.image.AxesImage at 0x7f09ca8fc1d0>"
            ]
          },
          "metadata": {
            "tags": []
          },
          "execution_count": 11
        },
        {
          "output_type": "display_data",
          "data": {
            "image/png": "[encoded data removed]",
            "text/plain": [
              "<Figure size 432x288 with 1 Axes>"
            ]
          },
          "metadata": {
            "tags": [],
            "needs_background": "light"
          }
        }
      ]
    },
    {
      "cell_type": "markdown",
      "metadata": {
        "id": "ZuV3v-WKyYvu",
        "colab_type": "text"
      },
      "source": [
        "## Phân chia dữ liệu"
      ]
    },
    {
      "cell_type": "code",
      "metadata": {
        "id": "Z8-cCxtS1DWX",
        "colab_type": "code",
        "colab": {}
      },
      "source": [
        "from sklearn.model_selection import train_test_split\n",
        "train_images, test_images, train_labels, test_labels = train_test_split(feature_images, labels, test_size = 0.2, random_state = 43)"
      ],
      "execution_count": 12,
      "outputs": []
    },
    {
      "cell_type": "markdown",
      "metadata": {
        "id": "7KZ6LXeLq6ye",
        "colab_type": "text"
      },
      "source": [
        "# **Các thuật toán máy học**\n",
        "Chọn model để train dữ liệu\n",
        "\n",
        "Sử dụng các thuật toán classification: Support Vector Machine, Linear Support Vector, Decision Tree, K-nearest Neighbors, Logistic Regression\n",
        "\n",
        "Accuracy(độ chính xác): Là tỉ lệ giữa số điểm dự đoán đúng trên tổng số điểm trong tập dữ liệu.\n",
        "\n",
        "Precision: Là tỉ lệ số điểm true positive trong số những điểm được phân loại là positive\n",
        "\n",
        "Precision = TP/(TP + FP)\n",
        "\n",
        "Recall: Là tỉ lệ số điểm true positive trong số những điểm thực sự là positive\n",
        "\n",
        "Recall = TP/(TP + FN)\n",
        "\n",
        "F1-score: là harmonic mean của precision và recall\n",
        "\n",
        "F1-score = 2(precision * recall)/(precision + recall)\n",
        "\n",
        "\n"
      ]
    },
    {
      "cell_type": "markdown",
      "metadata": {
        "id": "rczS5hprEaSc",
        "colab_type": "text"
      },
      "source": [
        "## Support Vector Machine"
      ]
    },
    {
      "cell_type": "code",
      "metadata": {
        "id": "6_VkNi8d5LSp",
        "colab_type": "code",
        "colab": {
          "base_uri": "https://localhost:8080/",
          "height": 235
        },
        "outputId": "81f1173e-5fe3-4723-f779-38f2cf097bce"
      },
      "source": [
        "from sklearn.metrics import classification_report\n",
        "from sklearn.metrics import accuracy_score\n",
        "from sklearn.svm import SVC\n",
        "SVM = SVC()\n",
        "SVM.fit(train_images, train_labels)\n",
        "SVM_pred = SVM.predict(test_images)\n",
        "SVM_score = accuracy_score(test_labels, SVM_pred)\n",
        "SVM_report = classification_report(test_labels, SVM_pred)\n",
        "print('Score = ', SVM_score)\n",
        "print(SVM_report)"
      ],
      "execution_count": 13,
      "outputs": [
        {
          "output_type": "stream",
          "text": [
            "Score =  0.7954545454545454\n",
            "              precision    recall  f1-score   support\n",
            "\n",
            "           B       0.81      0.75      0.78        57\n",
            "           C       0.80      0.88      0.83        49\n",
            "          CT       0.54      0.64      0.58        22\n",
            "           D       0.94      0.85      0.89        34\n",
            "           E       0.82      0.79      0.81        58\n",
            "\n",
            "    accuracy                           0.80       220\n",
            "   macro avg       0.78      0.78      0.78       220\n",
            "weighted avg       0.80      0.80      0.80       220\n",
            "\n"
          ],
          "name": "stdout"
        }
      ]
    },
    {
      "cell_type": "code",
      "metadata": {
        "id": "laTT4SXaihR8",
        "colab_type": "code",
        "colab": {
          "base_uri": "https://localhost:8080/",
          "height": 34
        },
        "outputId": "6fde9d60-bb77-4bdd-faf3-d8d1aaac4d88"
      },
      "source": [
        "from joblib import dump, load\n",
        "dump(SVM, 'SVM.joblib')"
      ],
      "execution_count": 14,
      "outputs": [
        {
          "output_type": "execute_result",
          "data": {
            "text/plain": [
              "['SVM.joblib']"
            ]
          },
          "metadata": {
            "tags": []
          },
          "execution_count": 14
        }
      ]
    },
    {
      "cell_type": "markdown",
      "metadata": {
        "id": "Uff6NEPAGUKi",
        "colab_type": "text"
      },
      "source": [
        "##  Linear Support Vector"
      ]
    },
    {
      "cell_type": "code",
      "metadata": {
        "id": "bgzEFEIObUdl",
        "colab_type": "code",
        "colab": {
          "base_uri": "https://localhost:8080/",
          "height": 235
        },
        "outputId": "81b50d4c-64d5-41b5-8dd2-bc3c9c721f19"
      },
      "source": [
        "from sklearn.svm import LinearSVC\n",
        "Linear = LinearSVC(max_iter= 5000)\n",
        "Linear.fit(train_images, train_labels)\n",
        "Linear_pred = Linear.predict(test_images)\n",
        "Linear_score = accuracy_score(test_labels, Linear_pred)\n",
        "Linear_report = classification_report(test_labels, Linear_pred)\n",
        "print('Score: ', Linear_score)\n",
        "print(Linear_report)"
      ],
      "execution_count": 15,
      "outputs": [
        {
          "output_type": "stream",
          "text": [
            "Score:  0.8090909090909091\n",
            "              precision    recall  f1-score   support\n",
            "\n",
            "           B       0.85      0.82      0.84        57\n",
            "           C       0.78      0.86      0.82        49\n",
            "          CT       0.62      0.68      0.65        22\n",
            "           D       0.91      0.85      0.88        34\n",
            "           E       0.82      0.78      0.80        58\n",
            "\n",
            "    accuracy                           0.81       220\n",
            "   macro avg       0.80      0.80      0.80       220\n",
            "weighted avg       0.81      0.81      0.81       220\n",
            "\n"
          ],
          "name": "stdout"
        }
      ]
    },
    {
      "cell_type": "code",
      "metadata": {
        "id": "i-80DkCSiq4z",
        "colab_type": "code",
        "colab": {
          "base_uri": "https://localhost:8080/",
          "height": 34
        },
        "outputId": "ba9a73b3-82b9-413f-e8ec-0a94d3f433bf"
      },
      "source": [
        "dump(Linear, 'Linear.joblib')"
      ],
      "execution_count": 16,
      "outputs": [
        {
          "output_type": "execute_result",
          "data": {
            "text/plain": [
              "['Linear.joblib']"
            ]
          },
          "metadata": {
            "tags": []
          },
          "execution_count": 16
        }
      ]
    },
    {
      "cell_type": "markdown",
      "metadata": {
        "id": "3ddUxncKGhJh",
        "colab_type": "text"
      },
      "source": [
        "## Decision Tree"
      ]
    },
    {
      "cell_type": "code",
      "metadata": {
        "id": "YwuzAxdzguUN",
        "colab_type": "code",
        "colab": {
          "base_uri": "https://localhost:8080/",
          "height": 235
        },
        "outputId": "8bdf14e6-1dba-4452-95da-9bf9d94ce875"
      },
      "source": [
        "from sklearn.tree import DecisionTreeClassifier\n",
        "DTC = DecisionTreeClassifier()\n",
        "DTC.fit(train_images, train_labels)\n",
        "DTC_pred = DTC.predict(test_images)\n",
        "DTC_score = accuracy_score(test_labels, DTC_pred)\n",
        "DTC_report = classification_report(test_labels, DTC_pred)\n",
        "print('Score = ', DTC_score)\n",
        "print(DTC_report)"
      ],
      "execution_count": 17,
      "outputs": [
        {
          "output_type": "stream",
          "text": [
            "Score =  0.42727272727272725\n",
            "              precision    recall  f1-score   support\n",
            "\n",
            "           B       0.52      0.46      0.49        57\n",
            "           C       0.50      0.53      0.51        49\n",
            "          CT       0.11      0.18      0.14        22\n",
            "           D       0.45      0.44      0.45        34\n",
            "           E       0.46      0.40      0.43        58\n",
            "\n",
            "    accuracy                           0.43       220\n",
            "   macro avg       0.41      0.40      0.40       220\n",
            "weighted avg       0.45      0.43      0.44       220\n",
            "\n"
          ],
          "name": "stdout"
        }
      ]
    },
    {
      "cell_type": "code",
      "metadata": {
        "id": "rgUZPBu4i4ap",
        "colab_type": "code",
        "colab": {
          "base_uri": "https://localhost:8080/",
          "height": 34
        },
        "outputId": "939a1cf5-4283-4131-b75c-376fca4ad128"
      },
      "source": [
        "dump(DTC, 'DecisionTree.joblib')"
      ],
      "execution_count": 18,
      "outputs": [
        {
          "output_type": "execute_result",
          "data": {
            "text/plain": [
              "['DecisionTree.joblib']"
            ]
          },
          "metadata": {
            "tags": []
          },
          "execution_count": 18
        }
      ]
    },
    {
      "cell_type": "markdown",
      "metadata": {
        "id": "nTLcHG_mGni5",
        "colab_type": "text"
      },
      "source": [
        "## K-nearest Neighbors"
      ]
    },
    {
      "cell_type": "code",
      "metadata": {
        "id": "8zqZZJSchhlq",
        "colab_type": "code",
        "colab": {
          "base_uri": "https://localhost:8080/",
          "height": 235
        },
        "outputId": "6e55acb9-8181-466c-b68f-a2cc069744bf"
      },
      "source": [
        "from sklearn.neighbors import KNeighborsClassifier\n",
        "KNN = KNeighborsClassifier()\n",
        "KNN.fit(train_images, train_labels)\n",
        "KNN_pred = KNN.predict(test_images)\n",
        "KNN_score = accuracy_score(test_labels, KNN_pred)\n",
        "KNN_report = classification_report(test_labels, KNN_pred)\n",
        "print('Score = ', KNN_score)\n",
        "print(KNN_report)"
      ],
      "execution_count": 19,
      "outputs": [
        {
          "output_type": "stream",
          "text": [
            "Score =  0.37272727272727274\n",
            "              precision    recall  f1-score   support\n",
            "\n",
            "           B       1.00      0.12      0.22        57\n",
            "           C       1.00      0.22      0.37        49\n",
            "          CT       0.16      0.64      0.26        22\n",
            "           D       0.32      0.82      0.46        34\n",
            "           E       0.79      0.38      0.51        58\n",
            "\n",
            "    accuracy                           0.37       220\n",
            "   macro avg       0.65      0.44      0.36       220\n",
            "weighted avg       0.75      0.37      0.37       220\n",
            "\n"
          ],
          "name": "stdout"
        }
      ]
    },
    {
      "cell_type": "code",
      "metadata": {
        "id": "ycc1-OEYjpb1",
        "colab_type": "code",
        "colab": {
          "base_uri": "https://localhost:8080/",
          "height": 34
        },
        "outputId": "09606071-8d98-4856-8162-8026ee3e17b3"
      },
      "source": [
        "dump(KNN, 'KNeighbors.joblib')"
      ],
      "execution_count": 20,
      "outputs": [
        {
          "output_type": "execute_result",
          "data": {
            "text/plain": [
              "['KNeighbors.joblib']"
            ]
          },
          "metadata": {
            "tags": []
          },
          "execution_count": 20
        }
      ]
    },
    {
      "cell_type": "markdown",
      "metadata": {
        "id": "zXvfXorEGq8P",
        "colab_type": "text"
      },
      "source": [
        "## Logistic Regression"
      ]
    },
    {
      "cell_type": "code",
      "metadata": {
        "id": "TRnrhGlPj1Qz",
        "colab_type": "code",
        "colab": {
          "base_uri": "https://localhost:8080/",
          "height": 235
        },
        "outputId": "20ee9cbb-57ab-4772-8b0c-094ca68bf1c4"
      },
      "source": [
        "from sklearn.linear_model import LogisticRegression\n",
        "LR = LogisticRegression(solver='liblinear', multi_class='ovr')\n",
        "LR.fit(train_images, train_labels)\n",
        "LR_pred = LR.predict(test_images)\n",
        "LR_score = accuracy_score(test_labels, LR_pred)\n",
        "LR_report = classification_report(test_labels, LR_pred)\n",
        "print('Score = ', LR_score)\n",
        "print(LR_report)"
      ],
      "execution_count": 21,
      "outputs": [
        {
          "output_type": "stream",
          "text": [
            "Score =  0.8\n",
            "              precision    recall  f1-score   support\n",
            "\n",
            "           B       0.85      0.77      0.81        57\n",
            "           C       0.76      0.86      0.81        49\n",
            "          CT       0.62      0.68      0.65        22\n",
            "           D       0.94      0.88      0.91        34\n",
            "           E       0.79      0.78      0.78        58\n",
            "\n",
            "    accuracy                           0.80       220\n",
            "   macro avg       0.79      0.79      0.79       220\n",
            "weighted avg       0.80      0.80      0.80       220\n",
            "\n"
          ],
          "name": "stdout"
        }
      ]
    },
    {
      "cell_type": "code",
      "metadata": {
        "id": "NTzhcMBlk8xX",
        "colab_type": "code",
        "colab": {
          "base_uri": "https://localhost:8080/",
          "height": 34
        },
        "outputId": "ba0b07f1-2dff-48db-84f1-f5669aa04d08"
      },
      "source": [
        "dump(LR, 'LogisticRegression.joblib')"
      ],
      "execution_count": 22,
      "outputs": [
        {
          "output_type": "execute_result",
          "data": {
            "text/plain": [
              "['LogisticRegression.joblib']"
            ]
          },
          "metadata": {
            "tags": []
          },
          "execution_count": 22
        }
      ]
    },
    {
      "cell_type": "markdown",
      "metadata": {
        "id": "-HE4f88NAs26",
        "colab_type": "text"
      },
      "source": [
        "# **Đánh giá các model với KFLod**"
      ]
    },
    {
      "cell_type": "code",
      "metadata": {
        "id": "Z8NwpYP27iDx",
        "colab_type": "code",
        "colab": {
          "base_uri": "https://localhost:8080/",
          "height": 348
        },
        "outputId": "98552ccb-5821-4afb-913c-4ec3e5eab30d"
      },
      "source": [
        "from pandas import read_csv\n",
        "from pandas.plotting import scatter_matrix\n",
        "from matplotlib import pyplot\n",
        "from sklearn.model_selection import train_test_split\n",
        "from sklearn.model_selection import cross_val_score\n",
        "from sklearn.model_selection import KFold\n",
        "from sklearn.metrics import classification_report\n",
        "from sklearn.metrics import confusion_matrix\n",
        "from sklearn.metrics import accuracy_score\n",
        "from sklearn.svm import SVC\n",
        "from sklearn.svm import LinearSVC\n",
        "from sklearn.tree import DecisionTreeClassifier\n",
        "from sklearn.neighbors import KNeighborsClassifier\n",
        "from sklearn.linear_model import LogisticRegression\n",
        "train_images, test_images, train_labels, test_labels = train_test_split(feature_images, labels, test_size = 0.2, random_state = 43)\n",
        "models = []\n",
        "models.append(('SVM', SVC()))\n",
        "#models.append(('LinearSVC', LinearSVC(max_iter = 5000)))\n",
        "models.append(('DTC', DecisionTreeClassifier()))\n",
        "models.append(('KNN', KNeighborsClassifier()))\n",
        "models.append(('LR', LogisticRegression(solver='liblinear', multi_class='ovr')))\n",
        "\n",
        "results = []\n",
        "names = []\n",
        "for name, model in models:\n",
        "  kfold = KFold(n_splits= 10, random_state = 43, shuffle= True)\n",
        "  cv_results = cross_val_score(model, train_images, train_labels, cv=kfold)\n",
        "  results.append(cv_results)\n",
        "  names.append(name)\n",
        "  print('%s: %f (%f)' % (name, cv_results.mean(), cv_results.std()))\n",
        "\n",
        "pyplot.boxplot(results, labels=names)\n",
        "pyplot.title('Algorithm Comparison')\n",
        "pyplot.show()"
      ],
      "execution_count": 23,
      "outputs": [
        {
          "output_type": "stream",
          "text": [
            "SVM: 0.802534 (0.038470)\n",
            "DTC: 0.373224 (0.050048)\n",
            "KNN: 0.394749 (0.055073)\n",
            "LR: 0.817359 (0.035220)\n"
          ],
          "name": "stdout"
        },
        {
          "output_type": "display_data",
          "data": {
            "image/png": "[encoded data removed]",
            "text/plain": [
              "<Figure size 432x288 with 1 Axes>"
            ]
          },
          "metadata": {
            "tags": [],
            "needs_background": "light"
          }
        }
      ]
    },
    {
      "cell_type": "markdown",
      "metadata": {
        "id": "Qvv82r45uYfv",
        "colab_type": "text"
      },
      "source": [
        "# Test trên dữ liệu mới"
      ]
    },
    {
      "cell_type": "code",
      "metadata": {
        "id": "4WH1vR6kBV9b",
        "colab_type": "code",
        "colab": {}
      },
      "source": [
        "test_IM, test_LB = Load_images('/content/gdrive/My Drive/testset')"
      ],
      "execution_count": 24,
      "outputs": []
    },
    {
      "cell_type": "code",
      "metadata": {
        "id": "u0zNVH-Sro_5",
        "colab_type": "code",
        "colab": {
          "base_uri": "https://localhost:8080/",
          "height": 34
        },
        "outputId": "5446848f-2213-4554-c9c9-06eaf4d2762d"
      },
      "source": [
        "feature_IM = get_feature(test_IM)\n",
        "feature_IM = np.asarray(feature_IM)\n",
        "test_LB = np.asarray(test_LB)\n",
        "print(feature_IM.shape)"
      ],
      "execution_count": 25,
      "outputs": [
        {
          "output_type": "stream",
          "text": [
            "(461, 34596)\n"
          ],
          "name": "stdout"
        }
      ]
    },
    {
      "cell_type": "code",
      "metadata": {
        "id": "hjfLHMlBsYi1",
        "colab_type": "code",
        "colab": {
          "base_uri": "https://localhost:8080/",
          "height": 1000
        },
        "outputId": "13ff88cf-7b30-4d9b-f563-32ced6f55155"
      },
      "source": [
        "for model in [SVM, Linear, DTC, KNN, LR]:\n",
        "    Pred = model.predict(feature_IM)\n",
        "    Score = model.score(feature_IM, test_LB)\n",
        "    print(classification_report(test_LB, Pred))\n",
        "    print(model.__class__.__name__, Score)"
      ],
      "execution_count": 26,
      "outputs": [
        {
          "output_type": "stream",
          "text": [
            "              precision    recall  f1-score   support\n",
            "\n",
            "           B       0.61      0.41      0.49       101\n",
            "           C       0.35      0.20      0.26        85\n",
            "          CT       0.73      0.80      0.76        89\n",
            "           D       1.00      0.94      0.97        95\n",
            "           E       0.39      0.68      0.49        91\n",
            "\n",
            "    accuracy                           0.61       461\n",
            "   macro avg       0.62      0.60      0.59       461\n",
            "weighted avg       0.62      0.61      0.60       461\n",
            "\n",
            "SVC 0.6073752711496746\n",
            "              precision    recall  f1-score   support\n",
            "\n",
            "           B       0.48      0.25      0.33       101\n",
            "           C       0.36      0.18      0.24        85\n",
            "          CT       0.71      0.84      0.77        89\n",
            "           D       0.95      0.93      0.94        95\n",
            "           E       0.35      0.65      0.45        91\n",
            "\n",
            "    accuracy                           0.57       461\n",
            "   macro avg       0.57      0.57      0.55       461\n",
            "weighted avg       0.57      0.57      0.55       461\n",
            "\n",
            "LinearSVC 0.5683297180043384\n",
            "              precision    recall  f1-score   support\n",
            "\n",
            "           B       0.24      0.22      0.23       101\n",
            "           C       0.14      0.14      0.14        85\n",
            "          CT       0.31      0.25      0.27        89\n",
            "           D       0.38      0.33      0.35        95\n",
            "           E       0.20      0.30      0.24        91\n",
            "\n",
            "    accuracy                           0.25       461\n",
            "   macro avg       0.25      0.25      0.25       461\n",
            "weighted avg       0.26      0.25      0.25       461\n",
            "\n",
            "DecisionTreeClassifier 0.2472885032537961\n",
            "              precision    recall  f1-score   support\n",
            "\n",
            "           B       0.00      0.00      0.00       101\n",
            "           C       0.00      0.00      0.00        85\n",
            "          CT       0.34      0.89      0.50        89\n",
            "           D       0.28      0.56      0.37        95\n",
            "           E       0.59      0.22      0.32        91\n",
            "\n",
            "    accuracy                           0.33       461\n",
            "   macro avg       0.24      0.33      0.24       461\n",
            "weighted avg       0.24      0.33      0.24       461\n",
            "\n",
            "KNeighborsClassifier 0.3297180043383948\n",
            "              precision    recall  f1-score   support\n",
            "\n",
            "           B       0.52      0.25      0.34       101\n",
            "           C       0.36      0.19      0.25        85\n",
            "          CT       0.71      0.85      0.78        89\n",
            "           D       0.96      0.94      0.95        95\n",
            "           E       0.36      0.67      0.47        91\n",
            "\n",
            "    accuracy                           0.58       461\n",
            "   macro avg       0.58      0.58      0.56       461\n",
            "weighted avg       0.59      0.58      0.56       461\n",
            "\n",
            "LogisticRegression 0.579175704989154\n"
          ],
          "name": "stdout"
        }
      ]
    },
    {
      "cell_type": "markdown",
      "metadata": {
        "id": "zDZfAbNI4-aQ",
        "colab_type": "text"
      },
      "source": [
        "# **Kết luận**\n",
        "Train bằng model SVC và LR cho kết quả tốt\n",
        "\n",
        "Trên tập train: \n",
        "SVC 0.795, LR 0.8\n",
        "\n",
        "Trên tập test: \n",
        "SVC 0.6, LR 0.58\n",
        "\n",
        "Train model trên tập test cho kết quả xấu hơn khi train model trên tập train\n",
        "\n",
        "\n"
      ]
    },
    {
      "cell_type": "markdown",
      "metadata": {
        "id": "u00NrTvC74sd",
        "colab_type": "text"
      },
      "source": [
        "# Sử dụng model để dự đoán một bức ảnh"
      ]
    },
    {
      "cell_type": "markdown",
      "metadata": {
        "id": "N5yvX3YMBo5m",
        "colab_type": "text"
      },
      "source": [
        "## Sử dụng bức ảnh có trong drive"
      ]
    },
    {
      "cell_type": "code",
      "metadata": {
        "id": "Fr2rntPTcDk-",
        "colab_type": "code",
        "colab": {}
      },
      "source": [
        "def Pred_image(path):\n",
        "  img = cv2.imread(path , 1)\n",
        "  img = cv2.cvtColor(img, cv2.COLOR_BGR2RGB)\n",
        "  img = cv2.resize(img, (256, 256))\n",
        "  #plt.imshow(path)\n",
        "  img = feature_extraction(img)\n",
        "  img = img.reshape(1, img.shape[0])\n",
        "  for folder in os.listdir('/content'):\n",
        "    if folder.endswith('.joblib'):\n",
        "      path = '/content/' + folder\n",
        "      clf = load(path)\n",
        "      print(os.path.splitext(os.path.basename(path))[0], ':', clf.predict(img)[0])"
      ],
      "execution_count": 27,
      "outputs": []
    },
    {
      "cell_type": "code",
      "metadata": {
        "id": "Gjd8lT-0eRwd",
        "colab_type": "code",
        "colab": {
          "base_uri": "https://localhost:8080/",
          "height": 118
        },
        "outputId": "b2ab7f40-e169-41ed-ede5-1c7961125649"
      },
      "source": [
        "path = input()\n",
        "Pred_image(path)"
      ],
      "execution_count": 28,
      "outputs": [
        {
          "output_type": "stream",
          "text": [
            "/content/gdrive/My Drive/dataset/E/IMG_3837.JPG\n",
            "SVM : E\n",
            "LogisticRegression : E\n",
            "KNeighbors : CT\n",
            "DecisionTree : E\n",
            "Linear : E\n"
          ],
          "name": "stdout"
        }
      ]
    },
    {
      "cell_type": "markdown",
      "metadata": {
        "id": "mYlFOU9KBvIS",
        "colab_type": "text"
      },
      "source": [
        "## Chụp một ảnh mới"
      ]
    },
    {
      "cell_type": "code",
      "metadata": {
        "id": "9MRwpdhLkHFE",
        "colab_type": "code",
        "colab": {}
      },
      "source": [
        "from IPython.display import display, Javascript\n",
        "from google.colab.output import eval_js\n",
        "from base64 import b64decode\n",
        "\n",
        "def take_photo(filename='photo.jpg', quality=0.8):\n",
        "  js = Javascript('''\n",
        "    async function takePhoto(quality) {\n",
        "      const div = document.createElement('div');\n",
        "      const capture = document.createElement('button');\n",
        "      capture.textContent = 'Capture';\n",
        "      div.appendChild(capture);\n",
        "\n",
        "      const video = document.createElement('video');\n",
        "      video.style.display = 'block';\n",
        "      const stream = await navigator.mediaDevices.getUserMedia({video: true});\n",
        "\n",
        "      document.body.appendChild(div);\n",
        "      div.appendChild(video);\n",
        "      video.srcObject = stream;\n",
        "      await video.play();\n",
        "\n",
        "      // Resize the output to fit the video element.\n",
        "      google.colab.output.setIframeHeight(document.documentElement.scrollHeight, true);\n",
        "\n",
        "      // Wait for Capture to be clicked.\n",
        "      await new Promise((resolve) => capture.onclick = resolve);\n",
        "\n",
        "      const canvas = document.createElement('canvas');\n",
        "      canvas.width = video.videoWidth;\n",
        "      canvas.height = video.videoHeight;\n",
        "      canvas.getContext('2d').drawImage(video, 0, 0);\n",
        "      stream.getVideoTracks()[0].stop();\n",
        "      div.remove();\n",
        "      return canvas.toDataURL('image/jpeg', quality);\n",
        "    }\n",
        "    ''')\n",
        "  display(js)\n",
        "  data = eval_js('takePhoto({})'.format(quality))\n",
        "  binary = b64decode(data.split(',')[1])\n",
        "  with open(filename, 'wb') as f:\n",
        "    f.write(binary)\n",
        "  return filename"
      ],
      "execution_count": 29,
      "outputs": []
    },
    {
      "cell_type": "code",
      "metadata": {
        "id": "QqUfLlfj-3c4",
        "colab_type": "code",
        "colab": {
          "base_uri": "https://localhost:8080/",
          "height": 598
        },
        "outputId": "dd88c847-0ca5-485c-b852-bbeb51d8602e"
      },
      "source": [
        "from IPython.display import Image\n",
        "try:\n",
        "  filename = take_photo()\n",
        "  print('Saved to {}'.format(filename))\n",
        "  \n",
        "  # Show the image which was just taken.\n",
        "  display(Image(filename))\n",
        "except Exception as err:\n",
        "  # Errors will be thrown if the user does not have a webcam or if they do not\n",
        "  # grant the page permission to access it.\n",
        "  print(str(err))\n",
        "\n",
        "Pred_image('/content/photo.jpg')"
      ],
      "execution_count": 38,
      "outputs": [
        {
          "output_type": "display_data",
          "data": {
            "application/javascript": [
              "\n",
              "    async function takePhoto(quality) {\n",
              "      const div = document.createElement('div');\n",
              "      const capture = document.createElement('button');\n",
              "      capture.textContent = 'Capture';\n",
              "      div.appendChild(capture);\n",
              "\n",
              "      const video = document.createElement('video');\n",
              "      video.style.display = 'block';\n",
              "      const stream = await navigator.mediaDevices.getUserMedia({video: true});\n",
              "\n",
              "      document.body.appendChild(div);\n",
              "      div.appendChild(video);\n",
              "      video.srcObject = stream;\n",
              "      await video.play();\n",
              "\n",
              "      // Resize the output to fit the video element.\n",
              "      google.colab.output.setIframeHeight(document.documentElement.scrollHeight, true);\n",
              "\n",
              "      // Wait for Capture to be clicked.\n",
              "      await new Promise((resolve) => capture.onclick = resolve);\n",
              "\n",
              "      const canvas = document.createElement('canvas');\n",
              "      canvas.width = video.videoWidth;\n",
              "      canvas.height = video.videoHeight;\n",
              "      canvas.getContext('2d').drawImage(video, 0, 0);\n",
              "      stream.getVideoTracks()[0].stop();\n",
              "      div.remove();\n",
              "      return canvas.toDataURL('image/jpeg', quality);\n",
              "    }\n",
              "    "
            ],
            "text/plain": [
              "<IPython.core.display.Javascript object>"
            ]
          },
          "metadata": {
            "tags": []
          }
        },
        {
          "output_type": "stream",
          "text": [
            "Saved to photo.jpg\n"
          ],
          "name": "stdout"
        },
        {
          "output_type": "display_data",
          "data": {
            "image/jpeg": "[encoded data removed]",
            "text/plain": [
              "<IPython.core.display.Image object>"
            ]
          },
          "metadata": {
            "tags": []
          }
        },
        {
          "output_type": "stream",
          "text": [
            "SVM : C\n",
            "LogisticRegression : C\n",
            "KNeighbors : D\n",
            "DecisionTree : C\n",
            "Linear : C\n"
          ],
          "name": "stdout"
        }
      ]
    },
    {
      "cell_type": "code",
      "metadata": {
        "id": "eYo8ZuZlEalS",
        "colab_type": "code",
        "colab": {}
      },
      "source": [
        ""
      ],
      "execution_count": 30,
      "outputs": []
    }
  ]
}