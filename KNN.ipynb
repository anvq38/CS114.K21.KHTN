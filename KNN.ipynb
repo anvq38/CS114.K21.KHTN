{
  "nbformat": 4,
  "nbformat_minor": 0,
  "metadata": {
    "colab": {
      "name": "KNN.ipynb",
      "provenance": [],
      "authorship_tag": "ABX9TyNXmUVhTEPTi/fO7wzMgKJE",
      "include_colab_link": true
    },
    "kernelspec": {
      "name": "python3",
      "display_name": "Python 3"
    }
  },
  "cells": [
    {
      "cell_type": "markdown",
      "metadata": {
        "id": "view-in-github",
        "colab_type": "text"
      },
      "source": [
        "<a href=\"https://colab.research.google.com/github/anvq38/CS114.K21.KHTN/blob/master/KNN.ipynb\" target=\"_parent\"><img src=\"https://colab.research.google.com/assets/colab-badge.svg\" alt=\"Open In Colab\"/></a>"
      ]
    },
    {
      "cell_type": "code",
      "metadata": {
        "id": "woJS1VUTZA6M",
        "colab_type": "code",
        "colab": {}
      },
      "source": [
        "import numpy as np\n",
        "import matplotlib.pyplot as plt\n",
        "from sklearn import neighbors, datasets"
      ],
      "execution_count": 1,
      "outputs": []
    },
    {
      "cell_type": "code",
      "metadata": {
        "id": "W2l0WH6WrwXD",
        "colab_type": "code",
        "colab": {
          "base_uri": "https://localhost:8080/",
          "height": 403
        },
        "outputId": "5bceddb9-bc42-4e49-ea3b-75cc51a3c6c0"
      },
      "source": [
        "iris = datasets.load_iris()\n",
        "iris_X = iris.data\n",
        "iris_Y = iris.target\n",
        "\n",
        "print('Number of classes: %d' %len(np.unique(iris_Y)))\n",
        "print('Number of data points: %d' %len(iris_Y))\n",
        "\n",
        "\n",
        "X0 = iris_X[iris_Y == 0,:]\n",
        "print('\\n Samples from class 0: \\n', X0[:5, :])\n",
        "\n",
        "X1 = iris_X[iris_Y == 1, :]\n",
        "print('\\n Samples from class 1: \\n', X1[:5, :])\n",
        "\n",
        "X2 = iris_X[iris_Y == 2, :]\n",
        "print('\\n Samples from class 2: \\n', X2[:5, :])"
      ],
      "execution_count": 15,
      "outputs": [
        {
          "output_type": "stream",
          "text": [
            "Number of classes: 3\n",
            "Number of data points: 150\n",
            "\n",
            " Samples from class 0: \n",
            " [[5.1 3.5 1.4 0.2]\n",
            " [4.9 3.  1.4 0.2]\n",
            " [4.7 3.2 1.3 0.2]\n",
            " [4.6 3.1 1.5 0.2]\n",
            " [5.  3.6 1.4 0.2]]\n",
            "\n",
            " Samples from class 1: \n",
            " [[7.  3.2 4.7 1.4]\n",
            " [6.4 3.2 4.5 1.5]\n",
            " [6.9 3.1 4.9 1.5]\n",
            " [5.5 2.3 4.  1.3]\n",
            " [6.5 2.8 4.6 1.5]]\n",
            "\n",
            " Samples from class 2: \n",
            " [[6.3 3.3 6.  2.5]\n",
            " [5.8 2.7 5.1 1.9]\n",
            " [7.1 3.  5.9 2.1]\n",
            " [6.3 2.9 5.6 1.8]\n",
            " [6.5 3.  5.8 2.2]]\n"
          ],
          "name": "stdout"
        }
      ]
    },
    {
      "cell_type": "code",
      "metadata": {
        "id": "-hA72jI4sg4N",
        "colab_type": "code",
        "colab": {
          "base_uri": "https://localhost:8080/",
          "height": 50
        },
        "outputId": "c7db7d8c-7b90-4883-e2ba-cf1669d460ab"
      },
      "source": [
        "from sklearn.model_selection import train_test_split\n",
        "X_train, X_test, Y_train, Y_test = train_test_split(iris_X, iris_Y, test_size = 50)\n",
        "\n",
        "print('Training size: %d' %len(Y_train))\n",
        "print('Test size: %d' %len(Y_test))"
      ],
      "execution_count": 33,
      "outputs": [
        {
          "output_type": "stream",
          "text": [
            "Training size: 100\n",
            "Test size: 50\n"
          ],
          "name": "stdout"
        }
      ]
    },
    {
      "cell_type": "code",
      "metadata": {
        "id": "r5nkD0qVwmlF",
        "colab_type": "code",
        "colab": {
          "base_uri": "https://localhost:8080/",
          "height": 67
        },
        "outputId": "d45ea976-4008-4698-f2b1-81d83c21df81"
      },
      "source": [
        "clf = neighbors.KNeighborsClassifier(n_neighbors=1, p = 2)\n",
        "clf.fit(X_train, Y_train)\n",
        "Y_pred = clf.predict(X_test)\n",
        "\n",
        "print (\"Print results for 20 test data points:\")\n",
        "print (\"Predicted labels: \", Y_pred[20:40])\n",
        "print (\"Ground truth    : \", Y_test[20:40])"
      ],
      "execution_count": 34,
      "outputs": [
        {
          "output_type": "stream",
          "text": [
            "Print results for 20 test data points:\n",
            "Predicted labels:  [2 1 0 0 0 1 2 2 1 2 2 2 0 2 2 1 1 1 1 0]\n",
            "Ground truth    :  [2 1 0 0 0 1 2 2 1 2 2 2 0 1 2 1 1 1 1 0]\n"
          ],
          "name": "stdout"
        }
      ]
    },
    {
      "cell_type": "code",
      "metadata": {
        "id": "te91RaiVxcwq",
        "colab_type": "code",
        "colab": {
          "base_uri": "https://localhost:8080/",
          "height": 34
        },
        "outputId": "c802855e-1025-4901-f92b-4aa6a27bc42d"
      },
      "source": [
        "from sklearn.metrics import accuracy_score\n",
        "print(\"Accuracy of 1NN: %2.f %%\" %(100 * accuracy_score(Y_test, Y_pred)))"
      ],
      "execution_count": 35,
      "outputs": [
        {
          "output_type": "stream",
          "text": [
            "Accuracy of 1NN: 98 %\n"
          ],
          "name": "stdout"
        }
      ]
    },
    {
      "cell_type": "code",
      "metadata": {
        "id": "n4lFhDPwx-Xw",
        "colab_type": "code",
        "colab": {
          "base_uri": "https://localhost:8080/",
          "height": 34
        },
        "outputId": "3dc151ed-b1c4-4473-8fe1-a9113bcb59fa"
      },
      "source": [
        "clf = neighbors.KNeighborsClassifier(n_neighbors=10, p = 2)\n",
        "clf.fit(X_train, Y_train)\n",
        "Y_pred = clf.predict(X_test)\n",
        "accuracy_score(Y_test, Y_pred)"
      ],
      "execution_count": 36,
      "outputs": [
        {
          "output_type": "execute_result",
          "data": {
            "text/plain": [
              "0.96"
            ]
          },
          "metadata": {
            "tags": []
          },
          "execution_count": 36
        }
      ]
    },
    {
      "cell_type": "code",
      "metadata": {
        "id": "LDuBqlN1yXuW",
        "colab_type": "code",
        "colab": {
          "base_uri": "https://localhost:8080/",
          "height": 34
        },
        "outputId": "dc533184-05a2-4aed-ff1a-3fa45cc101b9"
      },
      "source": [
        "clf = neighbors.KNeighborsClassifier(n_neighbors=10, p = 2, weights = 'distance')\n",
        "clf.fit(X_train, Y_train)\n",
        "Y_pred = clf.predict(X_test)\n",
        "accuracy_score(Y_test, Y_pred)"
      ],
      "execution_count": 37,
      "outputs": [
        {
          "output_type": "execute_result",
          "data": {
            "text/plain": [
              "0.98"
            ]
          },
          "metadata": {
            "tags": []
          },
          "execution_count": 37
        }
      ]
    }
  ]
}