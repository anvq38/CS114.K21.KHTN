{
  "nbformat": 4,
  "nbformat_minor": 0,
  "metadata": {
    "colab": {
      "name": "Mota_do_an.ipynb",
      "provenance": [],
      "authorship_tag": "ABX9TyMahNWv7H5cstLKxCYIGqTA",
      "include_colab_link": true
    },
    "kernelspec": {
      "name": "python3",
      "display_name": "Python 3"
    }
  },
  "cells": [
    {
      "cell_type": "markdown",
      "metadata": {
        "id": "view-in-github",
        "colab_type": "text"
      },
      "source": [
        "<a href=\"https://colab.research.google.com/github/anvq38/CS114.K21.KHTN/blob/master/Mota_do_an.ipynb\" target=\"_parent\"><img src=\"https://colab.research.google.com/assets/colab-badge.svg\" alt=\"Open In Colab\"/></a>"
      ]
    },
    {
      "cell_type": "markdown",
      "metadata": {
        "id": "VK-ii-Ao0f0t",
        "colab_type": "text"
      },
      "source": [
        "Đồ án cuối kỳ\n",
        "1.\tMô tả đồ án.\n",
        " + Tên đồ án: Nhận diện biển báo giao thông.\n",
        " + Input: Ảnh đầu vào có chứa một loại biển báo giao thông.\n",
        "Output: Thông tin biển báo.\n",
        "2.\tCác bộ dữ liệu.\n",
        " + Cách thức xây dựng bộ dữ liệu: Chụp ảnh, lấy dữ liệu trân Kaggle xây dựng dữ liệu dùng chung với các nhóm có chung đề tài.\n",
        " + Số lượng: 2000 tấm ảnh, 43 loại biển báo giao thông, mỗi loại biển báo chụp 50 tấm ảnh.\n",
        " + Các thao tác tiền xử lí trên dữ liệu: Phân chia(split): train/dev/test: train/test = 0.7/0.3\n",
        "3.\tĐặc trưng.\n",
        " + Shape feature, Color histogram\n",
        "4.\tCác thuật toán máy học.\n",
        " + Sử dụng thuật toán KNN\n",
        "5.\tCài đặt tinh chỉnh tham số.\n",
        " + Xây dựng chương trình trên Google Colab\n"
      ]
    }
  ]
}